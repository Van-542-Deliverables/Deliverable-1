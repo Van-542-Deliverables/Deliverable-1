{
 "cells": [
  {
   "cell_type": "code",
   "execution_count": 5,
   "id": "770200dd",
   "metadata": {},
   "outputs": [],
   "source": [
    "##DOWNLOADING DATA##"
   ]
  },
  {
   "cell_type": "code",
   "execution_count": 6,
   "id": "c61fe7ed",
   "metadata": {},
   "outputs": [
    {
     "ename": "ModuleNotFoundError",
     "evalue": "No module named 'pandas'",
     "output_type": "error",
     "traceback": [
      "\u001b[0;31m---------------------------------------------------------------------------\u001b[0m",
      "\u001b[0;31mModuleNotFoundError\u001b[0m                       Traceback (most recent call last)",
      "Cell \u001b[0;32mIn[6], line 1\u001b[0m\n\u001b[0;32m----> 1\u001b[0m \u001b[38;5;28;01mimport\u001b[39;00m \u001b[38;5;21;01mpandas\u001b[39;00m \u001b[38;5;28;01mas\u001b[39;00m \u001b[38;5;21;01mpd\u001b[39;00m\n\u001b[1;32m      2\u001b[0m gitCloudRepo\u001b[38;5;241m=\u001b[39m\u001b[38;5;124m'\u001b[39m\u001b[38;5;124mhttps://github.com/Van-542-Deliverables/Deliverable-1/raw/main/\u001b[39m\u001b[38;5;124m'\u001b[39m\n\u001b[1;32m      3\u001b[0m fileName1\u001b[38;5;241m=\u001b[39m\u001b[38;5;124m\"\u001b[39m\u001b[38;5;124mbirthrate.csv\u001b[39m\u001b[38;5;124m\"\u001b[39m\n",
      "\u001b[0;31mModuleNotFoundError\u001b[0m: No module named 'pandas'"
     ]
    }
   ],
   "source": [
    "import pandas as pd\n",
    "gitCloudRepo='https://github.com/Van-542-Deliverables/Deliverable-1/raw/main/'\n",
    "fileName1=\"birthrate.csv\"\n",
    "fileName2=\"carbondioxideemissions.csv\"\n",
    "fileName3=\"energyconsumptionpercapita.csv\"\n",
    "fileName4=\"fertilityrate.csv\"\n",
    "fileName5=\"industrialproductiongrowthrate.csv\"\n",
    "fileName6=\"laborforce.csv\"\n",
    "fileName7=\"lifeextectancyatbirth.csv\"\n",
    "fileName8=\"unemploymentrate.csv\"\n",
    "\n",
    "Birth=pd.read_csv(gitCloudRepo+fileName1)\n",
    "CarbonDioxide=pd.read_csv(gitCloudRepo+fileName2)\n",
    "Energy=pd.read_csv(gitCloudRepo+fileName3)\n",
    "Fertility=pd.read_csv(gitCloudRepo+fileName4)\n",
    "IndustrialGrowth=pd.read_csv(gitCloudRepo+fileName5)\n",
    "Laborforce=pd.read_csv(gitCloudRepo+fileName6)\n",
    "LifeExpectancy=pd.read_csv(gitCloudRepo+fileName7)\n",
    "Unemployment=pd.read_csv(gitCloudRepo+fileName8)"
   ]
  },
  {
   "cell_type": "code",
   "execution_count": null,
   "id": "d12a12e9",
   "metadata": {},
   "outputs": [],
   "source": [
    "##CLEANING DATA##"
   ]
  },
  {
   "cell_type": "code",
   "execution_count": null,
   "id": "e8fb384f",
   "metadata": {},
   "outputs": [],
   "source": [
    "(Birth.columns,\n",
    "Energy.columns,\n",
    "CarbonDioxide.columns,\n",
    "Fertility.columns,\n",
    "IndustrialGrowth.columns,\n",
    "Laborforce.columns,\n",
    "LifeExpectancy.columns,\n",
    "Unemployment.columns)"
   ]
  },
  {
   "cell_type": "code",
   "execution_count": null,
   "id": "15077dcd",
   "metadata": {},
   "outputs": [],
   "source": [
    "toDrop=['slug','date_of_information', 'ranking']\n",
    "Birth.drop(columns=toDrop, inplace=True)\n",
    "Energy.drop(columns=toDrop, inplace=True)\n",
    "CarbonDioxide.drop(columns=toDrop, inplace=True)\n",
    "Fertility.drop(columns=toDrop, inplace=True)\n",
    "IndustrialGrowth.drop(columns=toDrop, inplace=True)\n",
    "Laborforce.drop(columns=toDrop, inplace=True)\n",
    "LifeExpectancy.drop(columns=toDrop, inplace=True)\n",
    "Unemployment.drop(columns=toDrop, inplace=True)"
   ]
  },
  {
   "cell_type": "code",
   "execution_count": null,
   "id": "4128f99c",
   "metadata": {},
   "outputs": [],
   "source": [
    "Birth.rename(columns={'value':'Birth'}, inplace=True)\n",
    "Energy.rename(columns={'value':'Energy'}, inplace=True)\n",
    "CarbonDioxide.rename(columns={'value':'CarbonDioxide'}, inplace=True)\n",
    "Fertility.rename(columns={'value':'Fertility'}, inplace=True)\n",
    "IndustrialGrowth.rename(columns={'value':'IndustrialGrowth'}, inplace=True)\n",
    "Laborforce.rename(columns={'value':'Laborforce'}, inplace=True)\n",
    "LifeExpectancy.rename(columns={'value':'LifeExpectancy'}, inplace=True)\n",
    "Unemployment.rename(columns={'value':'Unemployment'}, inplace=True)"
   ]
  },
  {
   "cell_type": "code",
   "execution_count": null,
   "id": "baff7a57",
   "metadata": {},
   "outputs": [],
   "source": [
    "##MERGING DATA##"
   ]
  },
  {
   "cell_type": "code",
   "execution_count": null,
   "id": "3ca19cc8",
   "metadata": {},
   "outputs": [],
   "source": [
    "CountryRanking=Birth.merge(Energy)\n",
    "CountryRanking=CountryRanking.merge(CarbonDioxide)\n",
    "CountryRanking=CountryRanking.merge(Fertility)\n",
    "CountryRanking=CountryRanking.merge(IndustrialGrowth)\n",
    "CountryRanking=CountryRanking.merge(Laborforce)\n",
    "CountryRanking=CountryRanking.merge(LifeExpectancy)\n",
    "CountryRanking=CountryRanking.merge(Unemployment)"
   ]
  },
  {
   "cell_type": "code",
   "execution_count": null,
   "id": "0ffe4ce0",
   "metadata": {},
   "outputs": [],
   "source": [
    "CountryRanking"
   ]
  },
  {
   "cell_type": "code",
   "execution_count": null,
   "id": "aeee4b3c",
   "metadata": {},
   "outputs": [],
   "source": [
    "##FOTMATTING DATA##"
   ]
  },
  {
   "cell_type": "code",
   "execution_count": null,
   "id": "d911cbfa",
   "metadata": {},
   "outputs": [],
   "source": [
    "CountryRanking.replace(\"\\,\",'',regex=True)"
   ]
  },
  {
   "cell_type": "code",
   "execution_count": null,
   "id": "c14a67ee",
   "metadata": {},
   "outputs": [],
   "source": [
    "CountryRankingFinal=CountryRanking.replace(\"\\,\",'',regex=True).copy()"
   ]
  },
  {
   "cell_type": "code",
   "execution_count": null,
   "id": "faf0e8f1",
   "metadata": {},
   "outputs": [],
   "source": [
    "CountryRankingFinal.info()"
   ]
  },
  {
   "cell_type": "code",
   "execution_count": null,
   "id": "e1196724",
   "metadata": {},
   "outputs": [],
   "source": [
    "severalToNum=lambda x:pd.to_numeric(x,errors='coerce')\n",
    "\n",
    "where=['Laborforce','Carbon','Energy']\n",
    "\n",
    "CountryRankingFinal.loc[:,where]=CountryRankingFinal.loc[:,where].apply(severalToNum)"
   ]
  },
  {
   "cell_type": "code",
   "execution_count": null,
   "id": "0bd74353",
   "metadata": {},
   "outputs": [],
   "source": [
    "CountryRankingFinal"
   ]
  },
  {
   "cell_type": "code",
   "execution_count": null,
   "id": "1e40f6f4",
   "metadata": {},
   "outputs": [],
   "source": [
    "##EXPORTING DATA TO CSV##"
   ]
  },
  {
   "cell_type": "code",
   "execution_count": null,
   "id": "d6e2a990",
   "metadata": {},
   "outputs": [],
   "source": [
    "CountryRankingFinal.to_csv('CountryRankingFinal.csv', index=False)"
   ]
  }
 ],
 "metadata": {
  "kernelspec": {
   "display_name": "Python 3 (ipykernel)",
   "language": "python",
   "name": "python3"
  },
  "language_info": {
   "codemirror_mode": {
    "name": "ipython",
    "version": 3
   },
   "file_extension": ".py",
   "mimetype": "text/x-python",
   "name": "python",
   "nbconvert_exporter": "python",
   "pygments_lexer": "ipython3",
   "version": "3.9.15"
  }
 },
 "nbformat": 4,
 "nbformat_minor": 5
}
